{
  "nbformat": 4,
  "nbformat_minor": 0,
  "metadata": {
    "colab": {
      "provenance": []
    },
    "kernelspec": {
      "name": "python3",
      "display_name": "Python 3"
    },
    "language_info": {
      "name": "python"
    }
  },
  "cells": [
    {
      "cell_type": "code",
      "execution_count": 1,
      "metadata": {
        "id": "UVmawaYfiowH"
      },
      "outputs": [],
      "source": [
        "from sklearn.datasets import load_diabetes"
      ]
    },
    {
      "cell_type": "code",
      "source": [
        "X,y = load_diabetes(return_X_y=True)"
      ],
      "metadata": {
        "id": "-vVRCr2fi0uh"
      },
      "execution_count": 4,
      "outputs": []
    },
    {
      "cell_type": "code",
      "source": [
        "X.shape"
      ],
      "metadata": {
        "colab": {
          "base_uri": "https://localhost:8080/"
        },
        "id": "kMCviBHhi-PD",
        "outputId": "11bac053-0d67-49ce-be9d-cb2e022f3931"
      },
      "execution_count": 5,
      "outputs": [
        {
          "output_type": "execute_result",
          "data": {
            "text/plain": [
              "(442, 10)"
            ]
          },
          "metadata": {},
          "execution_count": 5
        }
      ]
    },
    {
      "cell_type": "code",
      "source": [
        "y.shape"
      ],
      "metadata": {
        "colab": {
          "base_uri": "https://localhost:8080/"
        },
        "id": "2xpasaCJjLxy",
        "outputId": "0c297fde-0c00-4129-922b-9bb977b63aba"
      },
      "execution_count": 6,
      "outputs": [
        {
          "output_type": "execute_result",
          "data": {
            "text/plain": [
              "(442,)"
            ]
          },
          "metadata": {},
          "execution_count": 6
        }
      ]
    },
    {
      "cell_type": "code",
      "source": [
        "import numpy as np\n",
        "import pandas as pd"
      ],
      "metadata": {
        "id": "ohUdLOpujNML"
      },
      "execution_count": 7,
      "outputs": []
    },
    {
      "cell_type": "code",
      "source": [
        "from sklearn.model_selection import train_test_split\n",
        "X_train,X_test,y_train,y_test = train_test_split(X,y,test_size=0.2,random_state=2)"
      ],
      "metadata": {
        "id": "K7Nn1DSzmNUv"
      },
      "execution_count": 12,
      "outputs": []
    },
    {
      "cell_type": "code",
      "source": [
        "print(X_train.shape)\n"
      ],
      "metadata": {
        "colab": {
          "base_uri": "https://localhost:8080/"
        },
        "id": "JLpJwLbboeb_",
        "outputId": "79a30854-d44b-40fe-f352-bce862acc129"
      },
      "execution_count": 30,
      "outputs": [
        {
          "output_type": "stream",
          "name": "stdout",
          "text": [
            "(353, 10)\n"
          ]
        }
      ]
    },
    {
      "cell_type": "code",
      "source": [
        "# Scratch Code\n",
        "\n",
        "class Tara_MLR:\n",
        "\n",
        "  def __init__(self):\n",
        "    self.coef_ = None\n",
        "    self.intercept_ = None\n",
        "\n",
        "  def fit(self,X_train,y_train):\n",
        "\n",
        "    X_train = np.insert(X_train,0,1,axis=1)\n",
        "\n",
        "    beta_values = np.linalg.inv(np.dot(X_train.T,X_train)).dot(X_train.T).dot(y_train)\n",
        "    self.coef_ = beta_values[1:]\n",
        "    self.intercept_ = beta_values[0]\n",
        "    return self\n",
        "\n",
        "  def predict(self,X_test):\n",
        "    return np.dot(X_test,self.coef_) + self.intercept_"
      ],
      "metadata": {
        "id": "LJ96i1RPkbTP"
      },
      "execution_count": 36,
      "outputs": []
    },
    {
      "cell_type": "code",
      "source": [
        "print(np.insert(X_train,0,1,axis=1).shape)"
      ],
      "metadata": {
        "colab": {
          "base_uri": "https://localhost:8080/"
        },
        "id": "csYEBSz9oyGG",
        "outputId": "ef8052f1-13a9-406e-f9f9-01f47dc1d308"
      },
      "execution_count": 37,
      "outputs": [
        {
          "output_type": "stream",
          "name": "stdout",
          "text": [
            "(353, 11)\n"
          ]
        }
      ]
    },
    {
      "cell_type": "code",
      "source": [
        "mlr = Tara_MLR()\n",
        "mlr.fit(X_train,y_train)\n",
        "print(mlr.predict(X_test))"
      ],
      "metadata": {
        "colab": {
          "base_uri": "https://localhost:8080/"
        },
        "id": "u232D_4EmA84",
        "outputId": "433415af-33b2-4030-98f2-5dc55108beb3"
      },
      "execution_count": 38,
      "outputs": [
        {
          "output_type": "stream",
          "name": "stdout",
          "text": [
            "[154.1213881  204.81835118 124.93755353 106.08950893 258.5348576\n",
            " 256.3310074  118.75087616 119.52440696 101.50816735 190.54048661\n",
            " 141.70656811 172.51883961 174.33861649 134.80942706 294.13994537\n",
            "  94.11798038 211.97059795 156.49579378 134.21000428 119.62664644\n",
            " 148.87842251 165.00873409 151.10021038 176.04063756 133.27769647\n",
            " 221.29555392 197.17324941  96.1577688   50.26012711 230.48580317\n",
            " 242.06073866 114.11129218  67.07532417  94.52943825 201.21415375\n",
            " 167.05136201 159.881268   192.78746659 114.49551325 233.48234551\n",
            " 140.82563045 121.0680409  192.27480772 191.12738845 179.16865788\n",
            " 148.34935601 163.47414622 276.81647884 100.17926432 164.10555298\n",
            " 255.80762189 136.9466204  152.37503699 107.92237882 194.21924678\n",
            "  77.34670792 118.50482479  68.38335763 154.29258529 162.48840259\n",
            " 168.36788326 156.87790322  97.14191797 238.1671215  145.46179904\n",
            " 117.65702433 168.88784311 198.38683887 118.24053714 124.64552812\n",
            " 223.17700368 200.63012386 129.54414666 158.1584765  154.332565\n",
            " 114.47070769  70.44906407  76.3973879  172.41584591  80.56270077\n",
            "  80.2722834   89.46150248 186.21572052 275.46275403 208.26784222\n",
            " 143.79451509 291.28766846 206.32474844  94.22935404]\n"
          ]
        }
      ]
    },
    {
      "cell_type": "code",
      "source": [
        "mlr.coef_"
      ],
      "metadata": {
        "colab": {
          "base_uri": "https://localhost:8080/"
        },
        "id": "MjzLrOuAml7f",
        "outputId": "1d734f1c-d001-437a-b622-a2c883636e13"
      },
      "execution_count": 39,
      "outputs": [
        {
          "output_type": "execute_result",
          "data": {
            "text/plain": [
              "array([  -9.15865318, -205.45432163,  516.69374454,  340.61999905,\n",
              "       -895.5520019 ,  561.22067904,  153.89310954,  126.73139688,\n",
              "        861.12700152,   52.42112238])"
            ]
          },
          "metadata": {},
          "execution_count": 39
        }
      ]
    },
    {
      "cell_type": "code",
      "source": [
        "mlr.intercept_"
      ],
      "metadata": {
        "id": "LurWOq7kpW9X",
        "outputId": "ec8c2c74-7b63-4240-cc60-aaf24c6a2d86",
        "colab": {
          "base_uri": "https://localhost:8080/"
        }
      },
      "execution_count": 40,
      "outputs": [
        {
          "output_type": "execute_result",
          "data": {
            "text/plain": [
              "151.88331005254165"
            ]
          },
          "metadata": {},
          "execution_count": 40
        }
      ]
    },
    {
      "cell_type": "code",
      "source": [],
      "metadata": {
        "id": "uD1KQoaQpZSd"
      },
      "execution_count": null,
      "outputs": []
    }
  ]
}