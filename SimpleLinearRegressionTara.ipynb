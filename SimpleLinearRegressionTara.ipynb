{
  "nbformat": 4,
  "nbformat_minor": 0,
  "metadata": {
    "colab": {
      "provenance": [],
      "authorship_tag": "ABX9TyN/20k0XZRaZD7111KAW/Km",
      "include_colab_link": true
    },
    "kernelspec": {
      "name": "python3",
      "display_name": "Python 3"
    },
    "language_info": {
      "name": "python"
    }
  },
  "cells": [
    {
      "cell_type": "markdown",
      "metadata": {
        "id": "view-in-github",
        "colab_type": "text"
      },
      "source": [
        "<a href=\"https://colab.research.google.com/github/TaraOnGit/ML_Agorithms_Coded_NBs/blob/master/SimpleLinearRegressionTara.ipynb\" target=\"_parent\"><img src=\"https://colab.research.google.com/assets/colab-badge.svg\" alt=\"Open In Colab\"/></a>"
      ]
    },
    {
      "cell_type": "markdown",
      "source": [
        "# Coding Simple Linear Regression from scratch"
      ],
      "metadata": {
        "id": "GuvRTT-mrGld"
      }
    },
    {
      "cell_type": "markdown",
      "source": [
        "## Writing My Own Linear Regression Class"
      ],
      "metadata": {
        "id": "ygZltt14vrXv"
      }
    },
    {
      "cell_type": "code",
      "execution_count": 65,
      "metadata": {
        "id": "HL_LDvBOrFsu"
      },
      "outputs": [],
      "source": [
        "class LinearRegressionTara:\n",
        "\n",
        "  def __init__(self):\n",
        "    # Initializing m and b values\n",
        "    self.m = None\n",
        "    self.b = None\n",
        "\n",
        "  def fit(self, X_train,y_train):\n",
        "\n",
        "    num = 0\n",
        "    den = 0\n",
        "\n",
        "    # Calculating m and b values by considering all data rows in X_train\n",
        "    # using their mathematical formulae\n",
        "\n",
        "    for i in range(X_train.shape[0]):\n",
        "      num = num + ((X_train[i] - X_train.mean()) * (y_train[i] - y_train.mean()))\n",
        "      den = den + ((X_train[i] - X_train.mean()) ** 2)\n",
        "\n",
        "      #den = den + ((X_train[i] - X_train.mean()) * (X_train[i] - X_train.mean()))\n",
        "\n",
        "      self.m = num / den\n",
        "      self.b = y_train.mean() - (self.m * X_train.mean())\n",
        "\n",
        "\n",
        "    #Predicting values for the test data by using the formula mx + b\n",
        "    # using the m and b values calculated from the training data\n",
        "  def predict(self, X_test):\n",
        "    return (self.m * X_test) + self.b\n"
      ]
    },
    {
      "cell_type": "code",
      "source": [
        "import numpy as np\n",
        "import pandas as pd\n"
      ],
      "metadata": {
        "id": "60Ho3gPrtCHA"
      },
      "execution_count": 66,
      "outputs": []
    },
    {
      "cell_type": "code",
      "source": [
        "df = pd.read_csv('placement.csv')"
      ],
      "metadata": {
        "id": "cpDUUFMXtEcF"
      },
      "execution_count": 67,
      "outputs": []
    },
    {
      "cell_type": "code",
      "source": [
        " X = df.iloc[:,0].values\n",
        " y = df.iloc[:,1].values"
      ],
      "metadata": {
        "id": "5OVc5QPNtZ3o"
      },
      "execution_count": 68,
      "outputs": []
    },
    {
      "cell_type": "code",
      "source": [
        "from sklearn.model_selection import train_test_split\n",
        "X_train, X_test, y_train, y_test = train_test_split(X,y,test_size=0.2,random_state=42)"
      ],
      "metadata": {
        "id": "S3e3zgQBt034"
      },
      "execution_count": 69,
      "outputs": []
    },
    {
      "cell_type": "code",
      "source": [
        "lrt = LinearRegressionTara()\n",
        "lrt.fit(X_train,y_train)\n",
        "y_pred = lrt.predict(X_test[0])\n",
        "print('My Linear Regression Prediction ')\n",
        "y_pred"
      ],
      "metadata": {
        "colab": {
          "base_uri": "https://localhost:8080/"
        },
        "id": "BRF70RB_rLBM",
        "outputId": "e15b1803-4033-4309-e857-c37d38b5c597"
      },
      "execution_count": 70,
      "outputs": [
        {
          "output_type": "stream",
          "name": "stdout",
          "text": [
            "My Linear Regression Prediction \n"
          ]
        },
        {
          "output_type": "execute_result",
          "data": {
            "text/plain": [
              "2.7803134765595168"
            ]
          },
          "metadata": {},
          "execution_count": 70
        }
      ]
    },
    {
      "cell_type": "code",
      "source": [
        "\n",
        "lrt.b, lrt.m"
      ],
      "metadata": {
        "colab": {
          "base_uri": "https://localhost:8080/"
        },
        "id": "AwzYyElcCXT_",
        "outputId": "ff0d3e36-4560-4978-df16-70779611662f"
      },
      "execution_count": 71,
      "outputs": [
        {
          "output_type": "execute_result",
          "data": {
            "text/plain": [
              "(-1.0270069374542108, 0.5742564727019197)"
            ]
          },
          "metadata": {},
          "execution_count": 71
        }
      ]
    },
    {
      "cell_type": "markdown",
      "source": [
        "# Let's compare the coef, intercept and prediction values with the\n",
        "# Sklearn Simple Linear Regression\n"
      ],
      "metadata": {
        "id": "hkdTfxFcCQMF"
      }
    },
    {
      "cell_type": "code",
      "source": [
        "from sklearn.linear_model import LinearRegression\n",
        "lr = LinearRegression()\n",
        "lr.fit(X_train,y_train)\n",
        "y_pred1 = lr.predict(X_test.iloc[0].values.reshape(1,1))\n",
        "print(\"sklearn Linear Regression Prediction\")\n",
        "y_pred1"
      ],
      "metadata": {
        "id": "H-gycz43uV8t",
        "colab": {
          "base_uri": "https://localhost:8080/"
        },
        "outputId": "ea6dd6ac-49fe-492e-df41-75bf5d2c6db5"
      },
      "execution_count": 76,
      "outputs": [
        {
          "output_type": "stream",
          "name": "stdout",
          "text": [
            "sklearn Linear Regression Prediction\n"
          ]
        },
        {
          "output_type": "stream",
          "name": "stderr",
          "text": [
            "/usr/local/lib/python3.10/dist-packages/sklearn/base.py:493: UserWarning: X does not have valid feature names, but LinearRegression was fitted with feature names\n",
            "  warnings.warn(\n"
          ]
        },
        {
          "output_type": "execute_result",
          "data": {
            "text/plain": [
              "array([2.78031348])"
            ]
          },
          "metadata": {},
          "execution_count": 76
        }
      ]
    },
    {
      "cell_type": "code",
      "source": [
        "lr.intercept_, lr.coef_[0]"
      ],
      "metadata": {
        "colab": {
          "base_uri": "https://localhost:8080/"
        },
        "id": "UL2oNxJS87WT",
        "outputId": "283d291e-c706-451b-b75f-1683c8098253"
      },
      "execution_count": 77,
      "outputs": [
        {
          "output_type": "execute_result",
          "data": {
            "text/plain": [
              "(-1.0270069374542108, 0.5742564727019197)"
            ]
          },
          "metadata": {},
          "execution_count": 77
        }
      ]
    },
    {
      "cell_type": "code",
      "source": [],
      "metadata": {
        "id": "KtDG_PAOCjVL"
      },
      "execution_count": null,
      "outputs": []
    }
  ]
}