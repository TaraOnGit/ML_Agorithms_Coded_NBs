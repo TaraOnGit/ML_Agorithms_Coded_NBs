{
  "nbformat": 4,
  "nbformat_minor": 0,
  "metadata": {
    "colab": {
      "provenance": [],
      "authorship_tag": "ABX9TyOIlcgTqZoLtfiIOsuSGk6t",
      "include_colab_link": true
    },
    "kernelspec": {
      "name": "python3",
      "display_name": "Python 3"
    },
    "language_info": {
      "name": "python"
    }
  },
  "cells": [
    {
      "cell_type": "markdown",
      "metadata": {
        "id": "view-in-github",
        "colab_type": "text"
      },
      "source": [
        "<a href=\"https://colab.research.google.com/github/TaraOnGit/ML_Agorithms_Coded_NBs/blob/master/SimpleLinearRegressionTara.ipynb\" target=\"_parent\"><img src=\"https://colab.research.google.com/assets/colab-badge.svg\" alt=\"Open In Colab\"/></a>"
      ]
    },
    {
      "cell_type": "markdown",
      "source": [
        "# Coding Simple Linear Regression from scratch"
      ],
      "metadata": {
        "id": "GuvRTT-mrGld"
      }
    },
    {
      "cell_type": "markdown",
      "source": [
        "## Writing My Own Linear Regression Class"
      ],
      "metadata": {
        "id": "ygZltt14vrXv"
      }
    },
    {
      "cell_type": "code",
      "execution_count": 16,
      "metadata": {
        "id": "HL_LDvBOrFsu"
      },
      "outputs": [],
      "source": [
        "class LinearRegressionTara:\n",
        "\n",
        "  def __init__(self):\n",
        "    # Initializing m and b values\n",
        "    self.m = None\n",
        "    self.b = None\n",
        "\n",
        "  def fit(self, X_train,y_train):\n",
        "\n",
        "    num = 0\n",
        "    den = 0\n",
        "\n",
        "    # Calculating m and b values by considering all data rows in X_train\n",
        "    # using their mathematical formulae\n",
        "\n",
        "    for i in range(X_train.shape[0]):\n",
        "      num = num + ((X_train[i] - X_train.mean()) * (y_train[i] - y_train.mean()))\n",
        "      den = den + ((X_train[i] - X_train.mean()) ** 2)\n",
        "\n",
        "      #den = den + ((X_train[i] - X_train.mean()) * (X_train[i] - X_train.mean()))\n",
        "\n",
        "      self.m = num / den\n",
        "      self.b = (y_train[i] * self.m) + X_train[i]\n",
        "\n",
        "\n",
        "    #Predicting values for the test data by using the formula mx + b\n",
        "    # using the m and b values calculated from the training data\n",
        "  def predict(self, X_test):\n",
        "    return (self.m * X_test) + self.b\n",
        ""
      ]
    },
    {
      "cell_type": "code",
      "source": [
        "import numpy as np\n",
        "import pandas as pd\n"
      ],
      "metadata": {
        "id": "60Ho3gPrtCHA"
      },
      "execution_count": 17,
      "outputs": []
    },
    {
      "cell_type": "code",
      "source": [
        "df = pd.read_csv('placement.csv')"
      ],
      "metadata": {
        "id": "cpDUUFMXtEcF"
      },
      "execution_count": 18,
      "outputs": []
    },
    {
      "cell_type": "code",
      "source": [
        "X = df.iloc[:,0].values\n",
        "y = df.iloc[:,1].values"
      ],
      "metadata": {
        "id": "5OVc5QPNtZ3o"
      },
      "execution_count": 19,
      "outputs": []
    },
    {
      "cell_type": "code",
      "source": [
        "from sklearn.model_selection import train_test_split\n",
        "X_train, X_test, y_train, y_test = train_test_split(X,y,test_size=0.2,random_state=42)"
      ],
      "metadata": {
        "id": "S3e3zgQBt034"
      },
      "execution_count": 20,
      "outputs": []
    },
    {
      "cell_type": "code",
      "source": [
        "\n",
        "lrt = LinearRegressionTara()\n",
        "lrt.fit(X_train,y_train)\n",
        "y_pred = lrt.predict(X_test[0])\n",
        "y_pred"
      ],
      "metadata": {
        "colab": {
          "base_uri": "https://localhost:8080/"
        },
        "id": "BRF70RB_rLBM",
        "outputId": "50896043-58e4-4c67-f7e7-50d06a4fe660"
      },
      "execution_count": 21,
      "outputs": [
        {
          "output_type": "execute_result",
          "data": {
            "text/plain": [
              "9.724051781615357"
            ]
          },
          "metadata": {},
          "execution_count": 21
        }
      ]
    },
    {
      "cell_type": "code",
      "source": [],
      "metadata": {
        "id": "H-gycz43uV8t"
      },
      "execution_count": null,
      "outputs": []
    }
  ]
}