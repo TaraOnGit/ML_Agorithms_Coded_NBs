{
  "nbformat": 4,
  "nbformat_minor": 0,
  "metadata": {
    "colab": {
      "provenance": []
    },
    "kernelspec": {
      "name": "python3",
      "display_name": "Python 3"
    },
    "language_info": {
      "name": "python"
    }
  },
  "cells": [
    {
      "cell_type": "code",
      "execution_count": 1,
      "metadata": {
        "id": "sF_nVM3QSKjM"
      },
      "outputs": [],
      "source": [
        "import numpy as np\n",
        "import pandas as pd"
      ]
    },
    {
      "cell_type": "code",
      "source": [
        "from sklearn.datasets import load_diabetes\n",
        "from sklearn.model_selection import train_test_split\n",
        "from sklearn.linear_model import LinearRegression\n",
        "from sklearn.metrics import mean_squared_error"
      ],
      "metadata": {
        "id": "-RzkvD9GSObM"
      },
      "execution_count": 197,
      "outputs": []
    },
    {
      "cell_type": "code",
      "source": [
        "X,y = load_diabetes(return_X_y=True)\n",
        "X_train,X_test,y_train,y_test = train_test_split(X,y,test_size=0.25,random_state=42)"
      ],
      "metadata": {
        "id": "L05vceSJStIX"
      },
      "execution_count": 48,
      "outputs": []
    },
    {
      "cell_type": "code",
      "source": [
        "class TaraMultiFeatureGD:\n",
        "  def __init__(self,learning_rate=0.01,epochs=100):\n",
        "    self.lr = learning_rate\n",
        "    self.epochs = epochs\n",
        "    self.intercept_ = 0\n",
        "    self.coef_ = 0\n",
        "\n",
        "  def fit(self,X_train,y_train):\n",
        "    self.coef_ = np.zeros(X_train.shape[1])\n",
        "\n",
        "    for i in range(self.epochs):\n",
        "\n",
        "      y_hat = np.dot(X_train,self.coef_) + self.intercept_ #Initial line\n",
        "      errors = y_train - y_hat\n",
        "\n",
        "      loss_slope_coef = -2 * np.dot(X_train.T,errors)\n",
        "      loss_slope_intercept = -2 * np.mean(errors)\n",
        "\n",
        "      self.coef_ -= self.lr * loss_slope_coef\n",
        "      self.intercept_ -= self.lr * loss_slope_intercept\n",
        "\n",
        "  def predict(self,X_test):\n",
        "    return np.dot(X_test,self.coef_) + self.intercept_"
      ],
      "metadata": {
        "id": "H242dOUoTLAM"
      },
      "execution_count": 137,
      "outputs": []
    },
    {
      "cell_type": "markdown",
      "source": [
        "# Intercept and Coef Values from our scratch code"
      ],
      "metadata": {
        "id": "UKvinLU3pkxZ"
      }
    },
    {
      "cell_type": "code",
      "source": [
        "gd = TaraMultiFeatureGD(0.33,2100)\n",
        "gd.fit(X_train,y_train)\n",
        "gd.intercept_, gd.coef_"
      ],
      "metadata": {
        "colab": {
          "base_uri": "https://localhost:8080/"
        },
        "id": "53D3Q-2dXKtw",
        "outputId": "f90add31-8fde-4acf-84c7-b6a53dc9f233"
      },
      "execution_count": 194,
      "outputs": [
        {
          "output_type": "execute_result",
          "data": {
            "text/plain": [
              "(151.66517252853788,\n",
              " array([  47.74992974, -241.99080523,  531.97190542,  381.56256694,\n",
              "        -918.46225487,  508.22589766,  116.93196132,  269.48663339,\n",
              "         695.79259745,   26.324891  ]))"
            ]
          },
          "metadata": {},
          "execution_count": 194
        }
      ]
    },
    {
      "cell_type": "markdown",
      "source": [
        "# Values from sklearn's LR model. The values are very very close"
      ],
      "metadata": {
        "id": "IUzcFcGBptoR"
      }
    },
    {
      "cell_type": "code",
      "source": [
        "lr = LinearRegression()\n",
        "lr.fit(X_train,y_train)\n",
        "lr.intercept_, lr.coef_"
      ],
      "metadata": {
        "colab": {
          "base_uri": "https://localhost:8080/"
        },
        "id": "NUDoW41iS9R1",
        "outputId": "f4455296-6c61-46f3-9f84-84411056b221"
      },
      "execution_count": 123,
      "outputs": [
        {
          "output_type": "execute_result",
          "data": {
            "text/plain": [
              "(151.6651755919933,\n",
              " array([  47.74968054, -241.99090728,  531.97106288,  381.56286182,\n",
              "        -918.50290455,  508.25778252,  116.95016447,  269.4923028 ,\n",
              "         695.80811712,   26.32458203]))"
            ]
          },
          "metadata": {},
          "execution_count": 123
        }
      ]
    },
    {
      "cell_type": "markdown",
      "source": [
        "# prediction from our scratch code (Below)"
      ],
      "metadata": {
        "id": "hfzddkoPp7-Z"
      }
    },
    {
      "cell_type": "code",
      "source": [
        "gd_pred = gd.predict(X_test)\n",
        "mean_squared_error(y_test,gd_pred)"
      ],
      "metadata": {
        "colab": {
          "base_uri": "https://localhost:8080/"
        },
        "id": "CGzGfQHdb1zx",
        "outputId": "d6d198c7-b926-4bc6-a162-76998add2cf8"
      },
      "execution_count": 198,
      "outputs": [
        {
          "output_type": "execute_result",
          "data": {
            "text/plain": [
              "2848.3096378294395"
            ]
          },
          "metadata": {},
          "execution_count": 198
        }
      ]
    },
    {
      "cell_type": "markdown",
      "source": [
        "# prediction from sklearn's LR model (Below)"
      ],
      "metadata": {
        "id": "lvgO41jpqctD"
      }
    },
    {
      "cell_type": "code",
      "source": [
        "lr_pred = lr.predict(X_test)\n",
        "mean_squared_error(y_test,lr_pred)"
      ],
      "metadata": {
        "colab": {
          "base_uri": "https://localhost:8080/"
        },
        "id": "00QpcMJUqKQG",
        "outputId": "408b6457-75df-4b1a-cd0a-ab0a31f0490a"
      },
      "execution_count": 199,
      "outputs": [
        {
          "output_type": "execute_result",
          "data": {
            "text/plain": [
              "2848.3106508475053"
            ]
          },
          "metadata": {},
          "execution_count": 199
        }
      ]
    },
    {
      "cell_type": "code",
      "source": [],
      "metadata": {
        "id": "l_9m2zrFqqx8"
      },
      "execution_count": null,
      "outputs": []
    }
  ]
}