{
  "nbformat": 4,
  "nbformat_minor": 0,
  "metadata": {
    "colab": {
      "provenance": []
    },
    "kernelspec": {
      "name": "python3",
      "display_name": "Python 3"
    },
    "language_info": {
      "name": "python"
    }
  },
  "cells": [
    {
      "cell_type": "code",
      "execution_count": 18,
      "metadata": {
        "id": "A0SKwxoSFTwO"
      },
      "outputs": [],
      "source": [
        "import numpy as np\n",
        "import pandas as pd\n",
        "import matplotlib.pyplot as plt"
      ]
    },
    {
      "cell_type": "code",
      "source": [
        "from sklearn.datasets import make_regression\n",
        "from sklearn.model_selection import train_test_split\n",
        "from sklearn.preprocessing import StandardScaler\n",
        "from sklearn.linear_model import LinearRegression\n",
        "from sklearn.metrics import mean_squared_error"
      ],
      "metadata": {
        "id": "xX9LAEeuFp6Y"
      },
      "execution_count": 136,
      "outputs": []
    },
    {
      "cell_type": "code",
      "source": [
        "X,y = make_regression(n_samples=300,n_features=1,n_targets=1,noise=20)"
      ],
      "metadata": {
        "id": "jr2lP2ObF5PE"
      },
      "execution_count": 41,
      "outputs": []
    },
    {
      "cell_type": "code",
      "source": [
        "scaler = StandardScaler()\n",
        "X = scaler.fit_transform(X)"
      ],
      "metadata": {
        "id": "47FlSS5zQi01"
      },
      "execution_count": 137,
      "outputs": []
    },
    {
      "cell_type": "code",
      "source": [
        "X_train,X_test,y_train,y_test = train_test_split(X,y,test_size = 0.2,random_state = 2)"
      ],
      "metadata": {
        "id": "bCjGCUwIF_ba"
      },
      "execution_count": 138,
      "outputs": []
    },
    {
      "cell_type": "code",
      "source": [
        "lr = LinearRegression()\n",
        "lr.fit(X_train,y_train)\n",
        "y_pred = lr.predict(X_test)\n",
        "print('MSE : ',mean_squared_error(y_test,y_pred))"
      ],
      "metadata": {
        "colab": {
          "base_uri": "https://localhost:8080/"
        },
        "id": "SzeJwpr7GAtt",
        "outputId": "8a23ee37-1b36-4c2d-eb66-8bb321f63fd5"
      },
      "execution_count": 139,
      "outputs": [
        {
          "output_type": "stream",
          "name": "stdout",
          "text": [
            "MSE :  317.32156278629463\n"
          ]
        }
      ]
    },
    {
      "cell_type": "code",
      "source": [
        "lr.coef_, lr.intercept_"
      ],
      "metadata": {
        "colab": {
          "base_uri": "https://localhost:8080/"
        },
        "id": "UV3tzBOhGiRQ",
        "outputId": "96147286-5f32-4e94-8975-82f2615e7386"
      },
      "execution_count": 140,
      "outputs": [
        {
          "output_type": "execute_result",
          "data": {
            "text/plain": [
              "(array([89.71053052]), -6.992486473172438)"
            ]
          },
          "metadata": {},
          "execution_count": 140
        }
      ]
    },
    {
      "cell_type": "markdown",
      "source": [
        "# Gradient Descent from scratch, keeping m constant"
      ],
      "metadata": {
        "id": "jMUc0Nf9InUI"
      }
    },
    {
      "cell_type": "code",
      "source": [
        "class TaraGD:\n",
        "  def __init__(self,learning_rate,epochs):\n",
        "    self.m = 89.71\n",
        "    self.b = 100\n",
        "    self.learning_rate = learning_rate\n",
        "    self.epochs = epochs\n",
        "\n",
        "  def fit(self,X_train,y_train):\n",
        "    for i in range(self.epochs):\n",
        "      loss_slope = -2 * np.sum(y_train - self.m * X_train.ravel() - self.b)\n",
        "      #loss intercept\n",
        "      self.b = self.b - (self.learning_rate * loss_slope) # b_new = b_old - step_size\n",
        "\n",
        "  def predict(self,X_test):\n",
        "    return (self.m * X_test) + self.b"
      ],
      "metadata": {
        "id": "mZWX2SZGHyqw"
      },
      "execution_count": 163,
      "outputs": []
    },
    {
      "cell_type": "code",
      "source": [
        "t_gd = TaraGD(0.001,55)\n",
        "t_gd.fit(X_train,y_train)\n",
        "y_pred1 = t_gd.predict(X_test)"
      ],
      "metadata": {
        "id": "5oUAtVSNKoVp"
      },
      "execution_count": 164,
      "outputs": []
    },
    {
      "cell_type": "code",
      "source": [
        "t_gd.m, t_gd.b,"
      ],
      "metadata": {
        "colab": {
          "base_uri": "https://localhost:8080/"
        },
        "id": "CLudU-ifLAIi",
        "outputId": "23d14cf5-08ab-4454-90da-e5afaa0ca165"
      },
      "execution_count": 165,
      "outputs": [
        {
          "output_type": "execute_result",
          "data": {
            "text/plain": [
              "(89.71, -6.992462914364108)"
            ]
          },
          "metadata": {},
          "execution_count": 165
        }
      ]
    },
    {
      "cell_type": "code",
      "source": [
        "plt.plot(X,y,'b.')\n",
        "plt.plot(X,lr.predict(X),'ro',label = 'Linear Regression')\n",
        "plt.plot(X,t_gd.predict(X),'g-',label = 'Gradient Descent')\n",
        "plt.legend()\n",
        "plt.show()"
      ],
      "metadata": {
        "colab": {
          "base_uri": "https://localhost:8080/",
          "height": 430
        },
        "id": "72x1CYZLLVSf",
        "outputId": "91f4958b-5026-4daa-e9e5-2b2a1334cd94"
      },
      "execution_count": 175,
      "outputs": [
        {
          "output_type": "display_data",
          "data": {
            "text/plain": [
              "<Figure size 640x480 with 1 Axes>"
            ],
            "image/png": "[encoded data removed]"
          },
          "metadata": {}
        }
      ]
    },
    {
      "cell_type": "code",
      "source": [],
      "metadata": {
        "id": "YSUkUFVgMxdZ"
      },
      "execution_count": 172,
      "outputs": []
    }
  ]
}