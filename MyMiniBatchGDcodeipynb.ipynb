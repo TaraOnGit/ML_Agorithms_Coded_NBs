{
  "nbformat": 4,
  "nbformat_minor": 0,
  "metadata": {
    "colab": {
      "provenance": []
    },
    "kernelspec": {
      "name": "python3",
      "display_name": "Python 3"
    },
    "language_info": {
      "name": "python"
    }
  },
  "cells": [
    {
      "cell_type": "code",
      "execution_count": 1,
      "metadata": {
        "id": "FXV1ueN0AU8O"
      },
      "outputs": [],
      "source": [
        "from sklearn.datasets import load_iris\n",
        "X,y = load_iris(return_X_y=True)"
      ]
    },
    {
      "cell_type": "code",
      "source": [
        "from sklearn.model_selection import train_test_split\n",
        "X_train,X_test,y_train,y_test = train_test_split(X,y,test_size=0.2,random_state=42)"
      ],
      "metadata": {
        "id": "6Qul-jy5A25g"
      },
      "execution_count": 3,
      "outputs": []
    },
    {
      "cell_type": "code",
      "source": [
        "import numpy as np\n",
        "import random\n",
        "\n",
        "class TaraMiniBatchGD:\n",
        "\n",
        "  def __init__(self,lrn_rt,epochs,chunk):\n",
        "\n",
        "    self.lrn_rt = lrn_rt\n",
        "    self.epochs = epochs\n",
        "    self.intercept_ = None\n",
        "    self.coef_ = None\n",
        "    self.chunk_ = chunk\n",
        "\n",
        "  def fit(self,X_train,y_train):\n",
        "\n",
        "    self.intercept_ = 0\n",
        "    self.coef_ = np.ones(X_train.shape[1])\n",
        "\n",
        "    for i in range(self.epochs):\n",
        "      for j in range(int(X_train.shape[0]/self.chunk_)):\n",
        "\n",
        "        idx = random.sample(range(X_train.shape[0]),self.chunk_)\n",
        "        y_hat = np.dot(X_train[idx],self.coef_) + self.intercept_\n",
        "\n",
        "        intercept_der = -2 * np.mean(y_train[idx] - y_hat)\n",
        "        self.intercept_ = self.intercept_ - (self.lrn_rt * intercept_der)\n",
        "\n",
        "        coef_der = -2 * np.dot((y_train[idx] - y_hat),X_train[idx])\n",
        "        self.coef_ = self.coef_ - (self.lrn_rt * coef_der)\n",
        "\n",
        "  def predict(self,X_test):\n",
        "      return np.dot(X_test,self.coef_) + self.intercept_\n"
      ],
      "metadata": {
        "id": "Gl6CRsQrA8c3"
      },
      "execution_count": 19,
      "outputs": []
    },
    {
      "cell_type": "code",
      "source": [
        "tara_minigd = TaraMiniBatchGD(lrn_rt=0.01,epochs=100,chunk=100)\n",
        "tara_minigd.fit(X_train,y_train)"
      ],
      "metadata": {
        "id": "wCn8-ShNDwGf"
      },
      "execution_count": 20,
      "outputs": []
    },
    {
      "cell_type": "code",
      "source": [
        "y_pred = tara_minigd.predict(X_test)"
      ],
      "metadata": {
        "id": "xxnSIf1nD2_9"
      },
      "execution_count": 21,
      "outputs": []
    },
    {
      "cell_type": "code",
      "source": [
        "from sklearn.metrics import r2_score, mean_absolute_error, mean_squared_error\n",
        "print('R2_score : ',r2_score(y_test,y_pred))\n",
        "print('MAE : ',mean_absolute_error(y_test,y_pred))\n",
        "print('MSE : ',mean_squared_error(y_test,y_pred))\n",
        "print('RMSE : ',np.sqrt(mean_squared_error(y_test,y_pred)))\n"
      ],
      "metadata": {
        "colab": {
          "base_uri": "https://localhost:8080/"
        },
        "id": "c_79kS0jFrDw",
        "outputId": "ddc40050-f14e-4af2-c46a-ad956ab96409"
      },
      "execution_count": 22,
      "outputs": [
        {
          "output_type": "stream",
          "name": "stdout",
          "text": [
            "R2_score :  -inf\n",
            "MAE :  1.5321165294336855e+209\n",
            "MSE :  inf\n",
            "RMSE :  inf\n"
          ]
        },
        {
          "output_type": "stream",
          "name": "stderr",
          "text": [
            "/usr/local/lib/python3.10/dist-packages/sklearn/metrics/_regression.py:1220: RuntimeWarning: overflow encountered in square\n",
            "  numerator = xp.sum(weight * (y_true - y_pred) ** 2, axis=0)\n",
            "/usr/local/lib/python3.10/dist-packages/sklearn/metrics/_regression.py:510: RuntimeWarning: overflow encountered in square\n",
            "  output_errors = np.average((y_true - y_pred) ** 2, axis=0, weights=sample_weight)\n",
            "/usr/local/lib/python3.10/dist-packages/sklearn/metrics/_regression.py:510: RuntimeWarning: overflow encountered in square\n",
            "  output_errors = np.average((y_true - y_pred) ** 2, axis=0, weights=sample_weight)\n"
          ]
        }
      ]
    },
    {
      "cell_type": "code",
      "source": [],
      "metadata": {
        "id": "lPZKBo-OGMnc"
      },
      "execution_count": null,
      "outputs": []
    }
  ]
}