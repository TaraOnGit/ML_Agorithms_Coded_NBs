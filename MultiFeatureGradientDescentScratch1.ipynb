{
  "nbformat": 4,
  "nbformat_minor": 0,
  "metadata": {
    "colab": {
      "provenance": []
    },
    "kernelspec": {
      "name": "python3",
      "display_name": "Python 3"
    },
    "language_info": {
      "name": "python"
    }
  },
  "cells": [
    {
      "cell_type": "code",
      "execution_count": 200,
      "metadata": {
        "id": "sF_nVM3QSKjM"
      },
      "outputs": [],
      "source": [
        "import numpy as np\n",
        "import pandas as pd"
      ]
    },
    {
      "cell_type": "code",
      "source": [
        "from sklearn.datasets import load_diabetes\n",
        "from sklearn.model_selection import train_test_split\n",
        "from sklearn.linear_model import LinearRegression\n",
        "from sklearn.metrics import mean_squared_error"
      ],
      "metadata": {
        "id": "-RzkvD9GSObM"
      },
      "execution_count": 201,
      "outputs": []
    },
    {
      "cell_type": "code",
      "source": [
        "X,y = load_diabetes(return_X_y=True)\n",
        "X_train,X_test,y_train,y_test = train_test_split(X,y,test_size=0.25,random_state=42)"
      ],
      "metadata": {
        "id": "L05vceSJStIX"
      },
      "execution_count": 202,
      "outputs": []
    },
    {
      "cell_type": "code",
      "source": [
        "class TaraMultiFeatureGD:\n",
        "  def __init__(self,learning_rate=0.01,epochs=100):\n",
        "    self.lr = learning_rate\n",
        "    self.epochs = epochs\n",
        "    self.intercept_ = 0\n",
        "    self.coef_ = 0\n",
        "\n",
        "  def fit(self,X_train,y_train):\n",
        "    self.coef_ = np.zeros(X_train.shape[1])\n",
        "\n",
        "    for i in range(self.epochs):\n",
        "\n",
        "      y_hat = np.dot(X_train,self.coef_) + self.intercept_ #Initial line\n",
        "      errors = y_train - y_hat\n",
        "\n",
        "      der_coef = -2 * np.dot(X_train.T,errors) / X_train.shape[0]\n",
        "      der_intercept = -2 * np.mean(errors)\n",
        "\n",
        "      self.coef_ -= self.lr * der_coef\n",
        "      self.intercept_ -= self.lr * der_intercept\n",
        "\n",
        "  def predict(self,X_test):\n",
        "    return np.dot(X_test,self.coef_) + self.intercept_"
      ],
      "metadata": {
        "id": "H242dOUoTLAM"
      },
      "execution_count": 282,
      "outputs": []
    },
    {
      "cell_type": "markdown",
      "source": [
        "# Intercept and Coef Values from our scratch code"
      ],
      "metadata": {
        "id": "UKvinLU3pkxZ"
      }
    },
    {
      "cell_type": "code",
      "source": [
        "gd = TaraMultiFeatureGD(0.999,29999)\n",
        "gd.fit(X_train,y_train)\n",
        "gd.intercept_, gd.coef_"
      ],
      "metadata": {
        "colab": {
          "base_uri": "https://localhost:8080/"
        },
        "id": "53D3Q-2dXKtw",
        "outputId": "2a49f46c-1a91-49ab-c542-f0a89da26877"
      },
      "execution_count": 283,
      "outputs": [
        {
          "output_type": "execute_result",
          "data": {
            "text/plain": [
              "(151.64796728702356,\n",
              " array([  49.15959104, -241.41350719,  536.73797498,  379.89443224,\n",
              "        -688.51147956,  327.8568914 ,   13.95867052,  237.41530944,\n",
              "         607.99958168,   28.07254306]))"
            ]
          },
          "metadata": {},
          "execution_count": 283
        }
      ]
    },
    {
      "cell_type": "markdown",
      "source": [
        "# Values from sklearn's LR model. The values are very very close"
      ],
      "metadata": {
        "id": "IUzcFcGBptoR"
      }
    },
    {
      "cell_type": "code",
      "source": [
        "lr = LinearRegression()\n",
        "lr.fit(X_train,y_train)\n",
        "lr.intercept_, lr.coef_"
      ],
      "metadata": {
        "colab": {
          "base_uri": "https://localhost:8080/"
        },
        "id": "NUDoW41iS9R1",
        "outputId": "b54b3c82-a3e8-4f76-dd7b-072d07a0a9d8"
      },
      "execution_count": 284,
      "outputs": [
        {
          "output_type": "execute_result",
          "data": {
            "text/plain": [
              "(151.6651755919933,\n",
              " array([  47.74968054, -241.99090728,  531.97106288,  381.56286182,\n",
              "        -918.50290455,  508.25778252,  116.95016447,  269.4923028 ,\n",
              "         695.80811712,   26.32458203]))"
            ]
          },
          "metadata": {},
          "execution_count": 284
        }
      ]
    },
    {
      "cell_type": "markdown",
      "source": [
        "# prediction from our scratch code (Below)"
      ],
      "metadata": {
        "id": "hfzddkoPp7-Z"
      }
    },
    {
      "cell_type": "code",
      "source": [
        "gd_pred = gd.predict(X_test)\n",
        "mean_squared_error(y_test,gd_pred)"
      ],
      "metadata": {
        "colab": {
          "base_uri": "https://localhost:8080/"
        },
        "id": "CGzGfQHdb1zx",
        "outputId": "cd8564d7-ba50-4162-f372-67ddb51aad04"
      },
      "execution_count": 285,
      "outputs": [
        {
          "output_type": "execute_result",
          "data": {
            "text/plain": [
              "2844.011284733394"
            ]
          },
          "metadata": {},
          "execution_count": 285
        }
      ]
    },
    {
      "cell_type": "markdown",
      "source": [
        "# prediction from sklearn's LR model (Below)"
      ],
      "metadata": {
        "id": "lvgO41jpqctD"
      }
    },
    {
      "cell_type": "code",
      "source": [
        "lr_pred = lr.predict(X_test)\n",
        "mean_squared_error(y_test,lr_pred)"
      ],
      "metadata": {
        "colab": {
          "base_uri": "https://localhost:8080/"
        },
        "id": "00QpcMJUqKQG",
        "outputId": "c414f998-286e-4599-8729-8ea5e312640e"
      },
      "execution_count": 286,
      "outputs": [
        {
          "output_type": "execute_result",
          "data": {
            "text/plain": [
              "2848.3106508475053"
            ]
          },
          "metadata": {},
          "execution_count": 286
        }
      ]
    },
    {
      "cell_type": "code",
      "source": [],
      "metadata": {
        "id": "l_9m2zrFqqx8"
      },
      "execution_count": null,
      "outputs": []
    }
  ]
}