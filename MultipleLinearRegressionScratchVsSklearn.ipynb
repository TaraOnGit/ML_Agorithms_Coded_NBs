{
  "nbformat": 4,
  "nbformat_minor": 0,
  "metadata": {
    "colab": {
      "provenance": [],
      "authorship_tag": "ABX9TyMdY/mxm+FDv9eYlRQbiYmK",
      "include_colab_link": true
    },
    "kernelspec": {
      "name": "python3",
      "display_name": "Python 3"
    },
    "language_info": {
      "name": "python"
    }
  },
  "cells": [
    {
      "cell_type": "markdown",
      "metadata": {
        "id": "view-in-github",
        "colab_type": "text"
      },
      "source": [
        "<a href=\"https://colab.research.google.com/github/TaraOnGit/ML_Agorithms_Coded_NBs/blob/master/MultipleLinearRegressionScratchVsSklearn.ipynb\" target=\"_parent\"><img src=\"https://colab.research.google.com/assets/colab-badge.svg\" alt=\"Open In Colab\"/></a>"
      ]
    },
    {
      "cell_type": "code",
      "execution_count": 12,
      "metadata": {
        "id": "M15qq3kHGy7x"
      },
      "outputs": [],
      "source": [
        "from sklearn.datasets import load_diabetes\n",
        "from sklearn.model_selection import train_test_split\n",
        "from sklearn.linear_model import LinearRegression"
      ]
    },
    {
      "cell_type": "code",
      "source": [
        "from sklearn.metrics import mean_squared_error,r2_score"
      ],
      "metadata": {
        "id": "Ku20So4dIdcH"
      },
      "execution_count": 16,
      "outputs": []
    },
    {
      "cell_type": "code",
      "source": [
        "import numpy as np\n",
        "import pandas as pd"
      ],
      "metadata": {
        "id": "9NtaheIIHHOd"
      },
      "execution_count": 2,
      "outputs": []
    },
    {
      "cell_type": "code",
      "source": [
        "X = pd.DataFrame(load_diabetes().data)\n",
        "y = pd.DataFrame(load_diabetes().target)"
      ],
      "metadata": {
        "id": "9XuuXECUHMAp"
      },
      "execution_count": 13,
      "outputs": []
    },
    {
      "cell_type": "code",
      "source": [
        "X_train,X_test,y_train,y_test = train_test_split(X,y,test_size=0.2,random_state=42)"
      ],
      "metadata": {
        "id": "DbkMzRoQI8E0"
      },
      "execution_count": 20,
      "outputs": []
    },
    {
      "cell_type": "markdown",
      "source": [
        "# Multiple Linear Regression sklearn"
      ],
      "metadata": {
        "id": "fWOOoyn0JC2a"
      }
    },
    {
      "cell_type": "code",
      "source": [
        "mlr = LinearRegression()\n",
        "mlr.fit(X_train,y_train)\n",
        "y_pred = mlr.predict(X_test)\n",
        "print('MSE ',mean_squared_error(y_test,y_pred))\n",
        "print('R2 Score ',r2_score(y_test,y_pred))"
      ],
      "metadata": {
        "colab": {
          "base_uri": "https://localhost:8080/"
        },
        "id": "qQ7biF4pHS1s",
        "outputId": "cfdbd15c-3826-4242-c3ca-834721b15c66"
      },
      "execution_count": 17,
      "outputs": [
        {
          "output_type": "stream",
          "name": "stdout",
          "text": [
            "MSE  2900.193628493482\n",
            "R2 Score  0.4526027629719195\n"
          ]
        }
      ]
    },
    {
      "cell_type": "code",
      "source": [
        "mlr.intercept_"
      ],
      "metadata": {
        "colab": {
          "base_uri": "https://localhost:8080/"
        },
        "id": "fIMo4uZyHxF2",
        "outputId": "93df77e2-20d6-4675-fc14-776390f78c96"
      },
      "execution_count": 18,
      "outputs": [
        {
          "output_type": "execute_result",
          "data": {
            "text/plain": [
              "array([151.34560454])"
            ]
          },
          "metadata": {},
          "execution_count": 18
        }
      ]
    },
    {
      "cell_type": "code",
      "source": [
        "mlr.coef_"
      ],
      "metadata": {
        "colab": {
          "base_uri": "https://localhost:8080/"
        },
        "id": "F6aQcmn2I1nR",
        "outputId": "55cee10c-c805-4281-b64d-6744174eb6a3"
      },
      "execution_count": 19,
      "outputs": [
        {
          "output_type": "execute_result",
          "data": {
            "text/plain": [
              "array([[  37.90402135, -241.96436231,  542.42875852,  347.70384391,\n",
              "        -931.48884588,  518.06227698,  163.41998299,  275.31790158,\n",
              "         736.1988589 ,   48.67065743]])"
            ]
          },
          "metadata": {},
          "execution_count": 19
        }
      ]
    },
    {
      "cell_type": "markdown",
      "source": [
        "# Multiple Linear Regression From Scratch"
      ],
      "metadata": {
        "id": "_GYO1c94JLMW"
      }
    },
    {
      "cell_type": "code",
      "source": [
        "class TaraMultipleLR:\n",
        "  def __init__(self):\n",
        "    self.intercept_ = None\n",
        "    self.coef_ = None\n",
        "\n",
        "  def fit(self,X_train,y_train):\n",
        "    #inserting 1s as the first column of the coefs matrix for intercept\n",
        "    X_train = np.insert(X_train,0,1,axis=1)\n",
        "\n",
        "    # (XTX)-1.XTY\n",
        "    betas_matrix = np.linalg.inv(np.dot((X_train.T),(X_train))).dot(X_train.T).dot(y_train)\n",
        "    self.intercept_ = betas_matrix[0]\n",
        "    self.coef_ = betas_matrix[1:]\n",
        "\n",
        "  def predict(self,X_test):\n",
        "    return np.dot(X_test,self.coef_) + self.intercept_"
      ],
      "metadata": {
        "id": "LjMvsp-yI4Co"
      },
      "execution_count": 29,
      "outputs": []
    },
    {
      "cell_type": "code",
      "source": [
        "tmlr = TaraMultipleLR()\n",
        "tmlr.fit(X_train,y_train)\n",
        "y_pred1 = tmlr.predict(X_test)"
      ],
      "metadata": {
        "id": "TFQEjH4eLLwr"
      },
      "execution_count": 38,
      "outputs": []
    },
    {
      "cell_type": "markdown",
      "source": [
        "# Comparing the MSE, R2_SCORE,intercept_ and coef_ values with that of sklearn's LR"
      ],
      "metadata": {
        "id": "PpRvbUb1Ohhd"
      }
    },
    {
      "cell_type": "code",
      "source": [
        "print('MSE ',mean_squared_error(y_test,y_pred1))\n",
        "print('R2 Score ',r2_score(y_test,y_pred1))"
      ],
      "metadata": {
        "colab": {
          "base_uri": "https://localhost:8080/"
        },
        "id": "iUpM5RF4OxLJ",
        "outputId": "3077493a-8a39-45b0-d4e5-87cd8015d10a"
      },
      "execution_count": 37,
      "outputs": [
        {
          "output_type": "stream",
          "name": "stdout",
          "text": [
            "MSE  2900.193628493479\n",
            "R2 Score  0.4526027629719199\n"
          ]
        }
      ]
    },
    {
      "cell_type": "code",
      "source": [
        "tmlr.intercept_"
      ],
      "metadata": {
        "colab": {
          "base_uri": "https://localhost:8080/"
        },
        "id": "AVTeGSXSNP4c",
        "outputId": "88349d96-78e8-4b9a-cfd0-33aba9bed5b1"
      },
      "execution_count": 31,
      "outputs": [
        {
          "output_type": "execute_result",
          "data": {
            "text/plain": [
              "array([151.34560454])"
            ]
          },
          "metadata": {},
          "execution_count": 31
        }
      ]
    },
    {
      "cell_type": "code",
      "source": [
        "tmlr.coef_"
      ],
      "metadata": {
        "colab": {
          "base_uri": "https://localhost:8080/"
        },
        "id": "Erce3jAhNUk7",
        "outputId": "46953d6b-2e66-44b9-f30d-4c46312a5e42"
      },
      "execution_count": 32,
      "outputs": [
        {
          "output_type": "execute_result",
          "data": {
            "text/plain": [
              "array([[  37.90402135],\n",
              "       [-241.96436231],\n",
              "       [ 542.42875852],\n",
              "       [ 347.70384391],\n",
              "       [-931.48884588],\n",
              "       [ 518.06227698],\n",
              "       [ 163.41998299],\n",
              "       [ 275.31790158],\n",
              "       [ 736.1988589 ],\n",
              "       [  48.67065743]])"
            ]
          },
          "metadata": {},
          "execution_count": 32
        }
      ]
    },
    {
      "cell_type": "code",
      "source": [],
      "metadata": {
        "id": "HpEFNa6bNwpO"
      },
      "execution_count": null,
      "outputs": []
    }
  ]
}