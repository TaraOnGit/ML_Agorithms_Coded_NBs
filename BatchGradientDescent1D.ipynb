{
  "nbformat": 4,
  "nbformat_minor": 0,
  "metadata": {
    "colab": {
      "provenance": []
    },
    "kernelspec": {
      "name": "python3",
      "display_name": "Python 3"
    },
    "language_info": {
      "name": "python"
    }
  },
  "cells": [
    {
      "cell_type": "code",
      "execution_count": 1,
      "metadata": {
        "id": "lqiN9SplTWtH"
      },
      "outputs": [],
      "source": [
        "import numpy as np\n",
        "import pandas as pd"
      ]
    },
    {
      "cell_type": "code",
      "source": [
        "from sklearn.datasets import make_regression\n",
        "from sklearn.preprocessing import StandardScaler\n",
        "from sklearn.model_selection import train_test_split\n",
        "from sklearn.linear_model import LinearRegression\n",
        "from sklearn.metrics import mean_squared_error, r2_score"
      ],
      "metadata": {
        "id": "Z_LxLRwBTaMA"
      },
      "execution_count": 71,
      "outputs": []
    },
    {
      "cell_type": "code",
      "source": [
        "X,y = make_regression(n_samples=400,n_features=1,n_informative=1,n_targets=1)\n",
        "X = pd.DataFrame(X)\n",
        "X.fillna(1,inplace=True)\n",
        "X = np.array(X)\n",
        "\n",
        "X_train,X_test,y_train,y_test = train_test_split(X,y,test_size=0.25,random_state=42)"
      ],
      "metadata": {
        "id": "PBqeTKUnTu_o"
      },
      "execution_count": 160,
      "outputs": []
    },
    {
      "cell_type": "code",
      "source": [],
      "metadata": {
        "id": "j43BjnxpbxOu"
      },
      "execution_count": 160,
      "outputs": []
    },
    {
      "cell_type": "code",
      "source": [
        "lr = LinearRegression()\n",
        "lr.fit(X_train,y_train)\n",
        "y_pred = lr.predict(X_test)"
      ],
      "metadata": {
        "id": "VXy3yWrXUNsb"
      },
      "execution_count": 161,
      "outputs": []
    },
    {
      "cell_type": "code",
      "source": [
        "lr.intercept_, lr.coef_"
      ],
      "metadata": {
        "colab": {
          "base_uri": "https://localhost:8080/"
        },
        "id": "z3FoH6SoUUm0",
        "outputId": "7f49015a-40e4-4ec7-c541-670db28ba5a8"
      },
      "execution_count": 162,
      "outputs": [
        {
          "output_type": "execute_result",
          "data": {
            "text/plain": [
              "(2.220446049250313e-15, array([41.5152987]))"
            ]
          },
          "metadata": {},
          "execution_count": 162
        }
      ]
    },
    {
      "cell_type": "code",
      "source": [
        "mean_squared_error(y_test,y_pred), r2_score(y_test,y_pred)"
      ],
      "metadata": {
        "colab": {
          "base_uri": "https://localhost:8080/"
        },
        "id": "daGIjTRHVD1u",
        "outputId": "213df9d2-f1f0-48ce-f448-e0aae7744e7a"
      },
      "execution_count": 163,
      "outputs": [
        {
          "output_type": "execute_result",
          "data": {
            "text/plain": [
              "(7.58514481606769e-28, 1.0)"
            ]
          },
          "metadata": {},
          "execution_count": 163
        }
      ]
    },
    {
      "cell_type": "code",
      "source": [],
      "metadata": {
        "id": "oIQmxN5gctRn"
      },
      "execution_count": 163,
      "outputs": []
    },
    {
      "cell_type": "code",
      "source": [
        "class MyGDLinearRegression:\n",
        "  def __init__(self,lr=0.1,epochs=100):\n",
        "    self.lr = lr\n",
        "    self.epochs=epochs\n",
        "    self.b = 120\n",
        "    self.m = 10\n",
        "\n",
        "  def fit(self,X_train,y_train):\n",
        "    X = X_train\n",
        "    y = y_train\n",
        "    for i in range(self.epochs):\n",
        "\n",
        "      residuals  = y - (self.m * X + self.b)\n",
        "      dLdb = -2 * np.sum(residuals)\n",
        "      dLdm = -2 * np.sum(residuals * X)\n",
        "\n",
        "      self.b = self.b - (self.lr * dLdb)\n",
        "      self.m = self.m - (self.lr * dLdm)\n",
        "\n",
        "  def predict(self,X_test):\n",
        "    return self.m * X_test + self.b\n",
        "\n"
      ],
      "metadata": {
        "id": "5NjbfuF6VMw0"
      },
      "execution_count": 171,
      "outputs": []
    },
    {
      "cell_type": "code",
      "source": [
        "ll = MyGDLinearRegression(lr=0.5,epochs=50)\n",
        "ll.fit(X_train,y_train)\n",
        "ll.b, np.array(ll.m)"
      ],
      "metadata": {
        "colab": {
          "base_uri": "https://localhost:8080/"
        },
        "id": "F9x035AFYZFj",
        "outputId": "903a36da-bd94-4c0e-c0cd-501e9c1abc14"
      },
      "execution_count": 173,
      "outputs": [
        {
          "output_type": "execute_result",
          "data": {
            "text/plain": [
              "(4.586942241053872e+250, array(-5.16701338e+250))"
            ]
          },
          "metadata": {},
          "execution_count": 173
        }
      ]
    },
    {
      "cell_type": "code",
      "source": [
        "0"
      ],
      "metadata": {
        "colab": {
          "base_uri": "https://localhost:8080/"
        },
        "id": "NuF-CEf1Yhf6",
        "outputId": "25913347-37ad-43db-937d-c484ddb3a567"
      },
      "execution_count": 150,
      "outputs": [
        {
          "output_type": "execute_result",
          "data": {
            "text/plain": [
              "0"
            ]
          },
          "metadata": {},
          "execution_count": 150
        }
      ]
    },
    {
      "cell_type": "code",
      "source": [],
      "metadata": {
        "id": "4OHxHLvfmD_X"
      },
      "execution_count": null,
      "outputs": []
    }
  ]
}