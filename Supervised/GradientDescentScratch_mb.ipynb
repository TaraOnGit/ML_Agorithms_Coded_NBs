{
  "nbformat": 4,
  "nbformat_minor": 0,
  "metadata": {
    "colab": {
      "provenance": []
    },
    "kernelspec": {
      "name": "python3",
      "display_name": "Python 3"
    },
    "language_info": {
      "name": "python"
    }
  },
  "cells": [
    {
      "cell_type": "code",
      "execution_count": 1,
      "metadata": {
        "id": "6iBvAvdI1efa"
      },
      "outputs": [],
      "source": [
        "import numpy as np\n",
        "import pandas as pd\n",
        "import matplotlib.pyplot as plt"
      ]
    },
    {
      "cell_type": "code",
      "source": [
        "from sklearn.datasets import make_regression\n",
        "from sklearn.model_selection import train_test_split\n",
        "from sklearn.preprocessing import StandardScaler\n",
        "from sklearn.linear_model import LinearRegression\n",
        "from sklearn.metrics import mean_squared_error"
      ],
      "metadata": {
        "id": "IHzndKJY1meA"
      },
      "execution_count": 2,
      "outputs": []
    },
    {
      "cell_type": "code",
      "source": [
        "X,y = make_regression(n_samples=300,n_features=1,n_targets=1,noise=50)"
      ],
      "metadata": {
        "id": "TGmnsp7P2ACL"
      },
      "execution_count": 3,
      "outputs": []
    },
    {
      "cell_type": "code",
      "source": [
        "scaler = StandardScaler()\n",
        "X_scaled = scaler.fit_transform(X)"
      ],
      "metadata": {
        "id": "2nJLZaP82QPI"
      },
      "execution_count": 4,
      "outputs": []
    },
    {
      "cell_type": "code",
      "source": [
        "X_train,X_test,y_train,y_test = train_test_split(X_scaled,y,test_size=0.25,random_state=42)"
      ],
      "metadata": {
        "id": "qiiH4ibR2rZq"
      },
      "execution_count": 5,
      "outputs": []
    },
    {
      "cell_type": "markdown",
      "source": [
        "# From Scratch"
      ],
      "metadata": {
        "id": "WiXUReK-3Kj6"
      }
    },
    {
      "cell_type": "code",
      "source": [
        "class TaraGD:\n",
        "  def __init__(self,learning_rate,epochs):\n",
        "    self.b = 0\n",
        "    self.m = 0\n",
        "    self.learning_rate = learning_rate\n",
        "    self.epochs = epochs\n",
        "\n",
        "  def fit(self,X_train,y_train):\n",
        "\n",
        "    X_train = X_train.ravel()\n",
        "    y_train = y_train.ravel()\n",
        "\n",
        "    for i in range(self.epochs):\n",
        "\n",
        "      y_pred = self.m * X_train + self.b\n",
        "\n",
        "      derv_b = -2 * np.sum(y_train - y_pred)\n",
        "      derv_m = -2 * np.sum((y_train - y_pred) * X_train)\n",
        "\n",
        "      self.b = self.b - (self.learning_rate * derv_b)\n",
        "      self.m = self.m - (self.learning_rate * derv_m)\n",
        "\n",
        "  def predict(self,X_test):\n",
        "    return self.m * X_test + self.b"
      ],
      "metadata": {
        "id": "2zlN1uzR3Igc"
      },
      "execution_count": 6,
      "outputs": []
    },
    {
      "cell_type": "code",
      "source": [
        "t_gd = TaraGD(0.001,100)\n",
        "t_gd.fit(X_train,y_train)\n",
        "t_gd.b, t_gd.m"
      ],
      "metadata": {
        "colab": {
          "base_uri": "https://localhost:8080/"
        },
        "id": "G_Ry_9v35JNc",
        "outputId": "d5be31b6-721b-4dc4-d074-491ee6a849ba"
      },
      "execution_count": 7,
      "outputs": [
        {
          "output_type": "execute_result",
          "data": {
            "text/plain": [
              "(-3.945697047707515, 16.95550709421335)"
            ]
          },
          "metadata": {},
          "execution_count": 7
        }
      ]
    },
    {
      "cell_type": "code",
      "source": [
        "lr = LinearRegression()\n",
        "lr.fit(X_train,y_train)\n",
        "lr.intercept_, lr.coef_"
      ],
      "metadata": {
        "colab": {
          "base_uri": "https://localhost:8080/"
        },
        "id": "ZwwZGs4c28Kd",
        "outputId": "8fe0435e-2e0e-4e33-e605-0b2ae5c83d2f"
      },
      "execution_count": 8,
      "outputs": [
        {
          "output_type": "execute_result",
          "data": {
            "text/plain": [
              "(-3.9456970477075144, array([16.95550709]))"
            ]
          },
          "metadata": {},
          "execution_count": 8
        }
      ]
    },
    {
      "cell_type": "code",
      "source": [
        "y_pred1 = lr.predict(X_test)\n",
        "y_pred2 = t_gd.predict(X_test)"
      ],
      "metadata": {
        "id": "PW_DVe0J5CIE"
      },
      "execution_count": 9,
      "outputs": []
    },
    {
      "cell_type": "code",
      "source": [
        "print('MSE - LR : ',mean_squared_error(y_test,y_pred1))\n",
        "print('MSE - GD : ',mean_squared_error(y_test,y_pred2))"
      ],
      "metadata": {
        "colab": {
          "base_uri": "https://localhost:8080/"
        },
        "id": "dbb14XXT70CP",
        "outputId": "5590d739-0264-4db3-dd6d-a3fd1e7e7c75"
      },
      "execution_count": 10,
      "outputs": [
        {
          "output_type": "stream",
          "name": "stdout",
          "text": [
            "MSE - LR :  2202.026941949604\n",
            "MSE - GD :  2202.0269419496044\n"
          ]
        }
      ]
    },
    {
      "cell_type": "code",
      "source": [],
      "metadata": {
        "id": "sSdNMhA68KMn"
      },
      "execution_count": null,
      "outputs": []
    }
  ]
}