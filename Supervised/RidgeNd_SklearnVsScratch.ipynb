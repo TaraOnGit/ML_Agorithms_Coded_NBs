{
  "nbformat": 4,
  "nbformat_minor": 0,
  "metadata": {
    "colab": {
      "provenance": []
    },
    "kernelspec": {
      "name": "python3",
      "display_name": "Python 3"
    },
    "language_info": {
      "name": "python"
    }
  },
  "cells": [
    {
      "cell_type": "code",
      "execution_count": 10,
      "metadata": {
        "id": "HTfvYKEI7c7R"
      },
      "outputs": [],
      "source": [
        "import numpy as np\n",
        "import pandas as pd\n",
        "import matplotlib.pyplot as plt"
      ]
    },
    {
      "cell_type": "code",
      "source": [
        "from sklearn.model_selection import train_test_split\n",
        "from sklearn.linear_model import Ridge\n",
        "from sklearn.metrics import mean_squared_error, r2_score\n"
      ],
      "metadata": {
        "id": "Q4fla7rV7qVa"
      },
      "execution_count": 2,
      "outputs": []
    },
    {
      "cell_type": "code",
      "source": [
        "from sklearn.datasets import load_diabetes\n",
        "X,y = load_diabetes(return_X_y = True)"
      ],
      "metadata": {
        "id": "y_s1Llvc7-2n"
      },
      "execution_count": 6,
      "outputs": []
    },
    {
      "cell_type": "code",
      "source": [
        "X_train,X_test,y_train,y_test = train_test_split(X,y,test_size=0.2,random_state=42)"
      ],
      "metadata": {
        "id": "hmzsrRxO8uaP"
      },
      "execution_count": 7,
      "outputs": []
    },
    {
      "cell_type": "markdown",
      "source": [
        "# Applying Sklearn Ridge"
      ],
      "metadata": {
        "id": "tMNeLcla8mLG"
      }
    },
    {
      "cell_type": "code",
      "source": [
        "ridge = Ridge(alpha=0.5,solver='cholesky') # Because, cholesky colver internally uses linalg function\n",
        "ridge.fit(X_train,y_train)\n",
        "y_pred = ridge.predict(X_test)\n",
        "print('MSE : ',mean_squared_error(y_test,y_pred))\n",
        "print('R2_Score : ',r2_score(y_test,y_pred))"
      ],
      "metadata": {
        "colab": {
          "base_uri": "https://localhost:8080/"
        },
        "id": "uIaoY2dP8VJX",
        "outputId": "8fb89efd-a60f-4256-98a9-a2847a6caad5"
      },
      "execution_count": 9,
      "outputs": [
        {
          "output_type": "stream",
          "name": "stdout",
          "text": [
            "MSE :  2917.176593478921\n",
            "R2_Score :  0.4493973121295206\n"
          ]
        }
      ]
    },
    {
      "cell_type": "code",
      "source": [
        "ridge.intercept_, ridge.coef_"
      ],
      "metadata": {
        "colab": {
          "base_uri": "https://localhost:8080/"
        },
        "id": "zjJaNyJG-QqW",
        "outputId": "d3e6857d-5657-483f-8d3a-5e254c397368"
      },
      "execution_count": 13,
      "outputs": [
        {
          "output_type": "execute_result",
          "data": {
            "text/plain": [
              "(151.90050930454737,\n",
              " array([  45.64290971, -123.52312064,  376.15147384,  248.41071859,\n",
              "         -26.89911282,  -59.71688698, -172.5492163 ,  131.8958765 ,\n",
              "         289.16015262,  112.14621816]))"
            ]
          },
          "metadata": {},
          "execution_count": 13
        }
      ]
    },
    {
      "cell_type": "markdown",
      "source": [
        "# Ridge Regression for Nd data from scratch"
      ],
      "metadata": {
        "id": "vkTM3UK-_NTZ"
      }
    },
    {
      "cell_type": "code",
      "source": [
        "class TaraNdRidge:\n",
        "  def __init__(self,alpha):\n",
        "    self.alpha = alpha\n",
        "    self.intercept_ = None\n",
        "    self.coef_ = None\n",
        "\n",
        "  def fit(self,X_train,y_train):\n",
        "    X_train = np.insert(X_train, 0, 1, axis=1) # Adding 1s in the first column for intercept\n",
        "\n",
        "    I = np.identity(X_train.shape[1]) # alpha is multiplied by I to make XTX an invertible matrix\n",
        "    I[0][0] = 0 # Avoids penalizing bias term. Weights/coefs are penalized as part of regularization\n",
        "\n",
        "    for i in range(X_train.shape[0]):\n",
        "      weights = np.linalg.inv(np.dot(X_train.T,X_train) + self.alpha * I).dot(X_train.T).dot(y_train)\n",
        "    self.intercept_ = weights[0]\n",
        "    self.coef_ = weights[1:]\n",
        "\n",
        "  def predict(self,X_test):\n",
        "    return np.dot(X_test,self.coef_) + self.intercept_"
      ],
      "metadata": {
        "id": "PTlOZL4L_Je4"
      },
      "execution_count": 14,
      "outputs": []
    },
    {
      "cell_type": "code",
      "source": [
        "t_ridge = TaraNdRidge(alpha=0.5)\n",
        "t_ridge.fit(X_train,y_train)\n",
        "y_pred1 = t_ridge.predict(X_test)\n",
        "print(\"MSE : \",mean_squared_error(y_test,y_pred1))\n",
        "print(\"R2_Score : \",r2_score(y_test,y_pred1))"
      ],
      "metadata": {
        "colab": {
          "base_uri": "https://localhost:8080/"
        },
        "id": "AJuQ2u8GEhl-",
        "outputId": "6586bff4-0e8c-4466-df73-d38ee03cc55a"
      },
      "execution_count": 15,
      "outputs": [
        {
          "output_type": "stream",
          "name": "stdout",
          "text": [
            "MSE :  2917.176593478922\n",
            "R2_Score :  0.4493973121295205\n"
          ]
        }
      ]
    },
    {
      "cell_type": "code",
      "source": [
        "t_ridge.intercept_, t_ridge.coef_"
      ],
      "metadata": {
        "colab": {
          "base_uri": "https://localhost:8080/"
        },
        "id": "oFTcykGAFDYM",
        "outputId": "9526f138-c5d2-4a59-9ca9-78cd795f3f70"
      },
      "execution_count": 16,
      "outputs": [
        {
          "output_type": "execute_result",
          "data": {
            "text/plain": [
              "(151.9005093045473,\n",
              " array([  45.64290971, -123.52312064,  376.15147384,  248.41071859,\n",
              "         -26.89911282,  -59.71688698, -172.5492163 ,  131.8958765 ,\n",
              "         289.16015262,  112.14621816]))"
            ]
          },
          "metadata": {},
          "execution_count": 16
        }
      ]
    },
    {
      "cell_type": "code",
      "source": [],
      "metadata": {
        "id": "5Jr3oeHHFMkK"
      },
      "execution_count": null,
      "outputs": []
    }
  ]
}