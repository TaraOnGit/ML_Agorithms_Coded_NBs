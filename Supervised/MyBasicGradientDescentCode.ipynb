{
  "nbformat": 4,
  "nbformat_minor": 0,
  "metadata": {
    "colab": {
      "provenance": []
    },
    "kernelspec": {
      "name": "python3",
      "display_name": "Python 3"
    },
    "language_info": {
      "name": "python"
    }
  },
  "cells": [
    {
      "cell_type": "code",
      "execution_count": 1,
      "metadata": {
        "id": "pNKh8ESzaKzb"
      },
      "outputs": [],
      "source": [
        "from sklearn.datasets import make_regression\n",
        "X,y = make_regression(n_samples=100, n_features=1, n_informative=1, n_targets=1,noise=20,random_state=13)"
      ]
    },
    {
      "cell_type": "code",
      "source": [
        "import numpy as np\n",
        "\n",
        "class TaraLinearRegression:\n",
        "\n",
        "  def __init__(self,lrn_rt,epochs):\n",
        "\n",
        "    self.m = 100\n",
        "    self.b = 120\n",
        "    self.lrn_rt = lrn_rt\n",
        "    self.epochs = epochs\n",
        "\n",
        "  def fit(self,X_train,y_train):\n",
        "\n",
        "    for i in range(self.epochs):\n",
        "      loss_slope_b = -2 * np.sum(y_train - self.m*X_train.ravel() - self.b)\n",
        "      loss_slope_m = -2 * np.sum(y_train - self.m*X_train.ravel() - self.b)*X_train.ravel()\n",
        "      self.b = self.b - (self.lrn_rt * loss_slope_b)\n",
        "      self.m = self.m - (self.lrn_rt * loss_slope_m)\n",
        "\n",
        "  def predict(self,X_test):\n",
        "\n",
        "    return (self.m * X_test) + self.b"
      ],
      "metadata": {
        "id": "OdYnr21fa63h"
      },
      "execution_count": 46,
      "outputs": []
    },
    {
      "cell_type": "code",
      "source": [
        "from sklearn.model_selection import train_test_split\n",
        "X_train,X_test,y_train,y_test = train_test_split(X,y,test_size=0.2,random_state=42)"
      ],
      "metadata": {
        "id": "t5td60qZc2_k"
      },
      "execution_count": 47,
      "outputs": []
    },
    {
      "cell_type": "code",
      "source": [
        "my_lr = TaraLinearRegression(0.05,100)\n",
        "my_lr.fit(X_train,y_train)"
      ],
      "metadata": {
        "id": "YK3qzFbDcaSZ"
      },
      "execution_count": 48,
      "outputs": []
    },
    {
      "cell_type": "code",
      "source": [
        "y_pred = my_lr.predict(X_test)"
      ],
      "metadata": {
        "id": "yR-Q9veJdcej"
      },
      "execution_count": 49,
      "outputs": []
    },
    {
      "cell_type": "code",
      "source": [
        "X_train.ndim,X_train.ravel().ndim,X_train.shape,X_train.ravel().shape"
      ],
      "metadata": {
        "colab": {
          "base_uri": "https://localhost:8080/"
        },
        "id": "b5HblMOVh_Ep",
        "outputId": "dfbd8561-5b22-4f67-8ad4-7778f687866a"
      },
      "execution_count": 55,
      "outputs": [
        {
          "output_type": "execute_result",
          "data": {
            "text/plain": [
              "(2, 1, (80, 1), (80,))"
            ]
          },
          "metadata": {},
          "execution_count": 55
        }
      ]
    },
    {
      "cell_type": "code",
      "source": [],
      "metadata": {
        "id": "haOt5eejlKFz"
      },
      "execution_count": null,
      "outputs": []
    }
  ]
}