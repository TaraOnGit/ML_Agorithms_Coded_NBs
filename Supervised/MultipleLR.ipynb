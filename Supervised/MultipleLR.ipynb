{
  "nbformat": 4,
  "nbformat_minor": 0,
  "metadata": {
    "colab": {
      "provenance": []
    },
    "kernelspec": {
      "name": "python3",
      "display_name": "Python 3"
    },
    "language_info": {
      "name": "python"
    }
  },
  "cells": [
    {
      "cell_type": "code",
      "execution_count": 1,
      "metadata": {
        "id": "UVmawaYfiowH"
      },
      "outputs": [],
      "source": [
        "from sklearn.datasets import load_diabetes"
      ]
    },
    {
      "cell_type": "code",
      "source": [
        "X,y = load_diabetes(return_X_y=True)"
      ],
      "metadata": {
        "id": "-vVRCr2fi0uh"
      },
      "execution_count": 4,
      "outputs": []
    },
    {
      "cell_type": "code",
      "source": [
        "X.shape"
      ],
      "metadata": {
        "colab": {
          "base_uri": "https://localhost:8080/"
        },
        "id": "kMCviBHhi-PD",
        "outputId": "11bac053-0d67-49ce-be9d-cb2e022f3931"
      },
      "execution_count": 5,
      "outputs": [
        {
          "output_type": "execute_result",
          "data": {
            "text/plain": [
              "(442, 10)"
            ]
          },
          "metadata": {},
          "execution_count": 5
        }
      ]
    },
    {
      "cell_type": "code",
      "source": [
        "y.shape"
      ],
      "metadata": {
        "colab": {
          "base_uri": "https://localhost:8080/"
        },
        "id": "2xpasaCJjLxy",
        "outputId": "0c297fde-0c00-4129-922b-9bb977b63aba"
      },
      "execution_count": 6,
      "outputs": [
        {
          "output_type": "execute_result",
          "data": {
            "text/plain": [
              "(442,)"
            ]
          },
          "metadata": {},
          "execution_count": 6
        }
      ]
    },
    {
      "cell_type": "code",
      "source": [
        "import numpy as np\n",
        "import pandas as pd"
      ],
      "metadata": {
        "id": "ohUdLOpujNML"
      },
      "execution_count": 7,
      "outputs": []
    },
    {
      "cell_type": "code",
      "source": [
        "from sklearn.model_selection import train_test_split\n",
        "X_train, X_test, y_train, y_test = train_test_split(X, y, test_size=0.2, random_state=2)"
      ],
      "metadata": {
        "id": "9TttXYsZjUFC"
      },
      "execution_count": 8,
      "outputs": []
    },
    {
      "cell_type": "code",
      "source": [
        "from sklearn.linear_model import LinearRegression\n",
        "lr = LinearRegression()\n",
        "lr.fit(X_train,y_train)\n",
        "y_pred = lr.predict(X_test)\n",
        "y_pred"
      ],
      "metadata": {
        "colab": {
          "base_uri": "https://localhost:8080/"
        },
        "id": "EMJF2-0zjr9l",
        "outputId": "7d87c0e2-504d-455a-a10d-6da00faec069"
      },
      "execution_count": 9,
      "outputs": [
        {
          "output_type": "execute_result",
          "data": {
            "text/plain": [
              "array([154.1213881 , 204.81835118, 124.93755353, 106.08950893,\n",
              "       258.5348576 , 256.3310074 , 118.75087616, 119.52440696,\n",
              "       101.50816735, 190.54048661, 141.70656811, 172.51883961,\n",
              "       174.33861649, 134.80942706, 294.13994537,  94.11798038,\n",
              "       211.97059795, 156.49579378, 134.21000428, 119.62664644,\n",
              "       148.87842251, 165.00873409, 151.10021038, 176.04063756,\n",
              "       133.27769647, 221.29555392, 197.17324941,  96.1577688 ,\n",
              "        50.26012711, 230.48580317, 242.06073866, 114.11129218,\n",
              "        67.07532417,  94.52943825, 201.21415375, 167.05136201,\n",
              "       159.881268  , 192.78746659, 114.49551325, 233.48234551,\n",
              "       140.82563045, 121.0680409 , 192.27480772, 191.12738845,\n",
              "       179.16865788, 148.34935601, 163.47414622, 276.81647884,\n",
              "       100.17926432, 164.10555298, 255.80762189, 136.9466204 ,\n",
              "       152.37503699, 107.92237882, 194.21924678,  77.34670792,\n",
              "       118.50482479,  68.38335763, 154.29258529, 162.48840259,\n",
              "       168.36788326, 156.87790322,  97.14191797, 238.1671215 ,\n",
              "       145.46179904, 117.65702433, 168.88784311, 198.38683887,\n",
              "       118.24053714, 124.64552812, 223.17700368, 200.63012386,\n",
              "       129.54414666, 158.1584765 , 154.332565  , 114.47070769,\n",
              "        70.44906407,  76.3973879 , 172.41584591,  80.56270077,\n",
              "        80.2722834 ,  89.46150248, 186.21572052, 275.46275403,\n",
              "       208.26784222, 143.79451509, 291.28766846, 206.32474844,\n",
              "        94.22935404])"
            ]
          },
          "metadata": {},
          "execution_count": 9
        }
      ]
    },
    {
      "cell_type": "code",
      "source": [
        "# Regression Metrics\n",
        "from sklearn.metrics import mean_absolute_error, mean_squared_error, r2_score\n",
        "print('MAE',mean_absolute_error(y_test,y_pred))\n",
        "print('MSE',mean_squared_error(y_test,y_pred))\n",
        "print('RMSE',np.sqrt(mean_squared_error(y_test,y_pred)))\n",
        "print('R2 Score',r2_score(y_test,y_pred))"
      ],
      "metadata": {
        "colab": {
          "base_uri": "https://localhost:8080/"
        },
        "id": "c1mC_ZNNkBSc",
        "outputId": "fd225e48-b838-4577-aa49-b366f0bc2847"
      },
      "execution_count": 10,
      "outputs": [
        {
          "output_type": "stream",
          "name": "stdout",
          "text": [
            "MAE 45.213034190469024\n",
            "MSE 3094.4566715660626\n",
            "RMSE 55.627840795469155\n",
            "R2 Score 0.4399338661568968\n"
          ]
        }
      ]
    },
    {
      "cell_type": "code",
      "source": [],
      "metadata": {
        "id": "LJ96i1RPkbTP"
      },
      "execution_count": null,
      "outputs": []
    }
  ]
}