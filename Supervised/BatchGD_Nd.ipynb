{
  "nbformat": 4,
  "nbformat_minor": 0,
  "metadata": {
    "colab": {
      "provenance": []
    },
    "kernelspec": {
      "name": "python3",
      "display_name": "Python 3"
    },
    "language_info": {
      "name": "python"
    }
  },
  "cells": [
    {
      "cell_type": "code",
      "execution_count": 8,
      "metadata": {
        "id": "RASQ0YDUD6Ek"
      },
      "outputs": [],
      "source": [
        "import pandas as pd\n",
        "import numpy as np"
      ]
    },
    {
      "cell_type": "code",
      "source": [
        "from sklearn.datasets import load_diabetes\n",
        "from sklearn.model_selection import train_test_split\n",
        "from sklearn.linear_model import LinearRegression\n",
        "from sklearn.metrics import mean_squared_error,r2_score"
      ],
      "metadata": {
        "id": "77B4CArEEZoM"
      },
      "execution_count": 2,
      "outputs": []
    },
    {
      "cell_type": "code",
      "source": [
        "X,y = load_diabetes(return_X_y=True)"
      ],
      "metadata": {
        "id": "5DiRD0RsEze3"
      },
      "execution_count": 3,
      "outputs": []
    },
    {
      "cell_type": "code",
      "source": [
        "X_train,X_test,y_train,y_test = train_test_split(X,y,test_size=0.2,random_state=42)"
      ],
      "metadata": {
        "id": "m4dm64-3E6-3"
      },
      "execution_count": 4,
      "outputs": []
    },
    {
      "cell_type": "code",
      "source": [
        "lr = LinearRegression()\n",
        "lr.fit(X_train,y_train)\n",
        "y_pred = lr.predict(X_test)"
      ],
      "metadata": {
        "id": "LTsk58dYFGWR"
      },
      "execution_count": 5,
      "outputs": []
    },
    {
      "cell_type": "code",
      "source": [
        "lr.intercept_, lr.coef_"
      ],
      "metadata": {
        "colab": {
          "base_uri": "https://localhost:8080/"
        },
        "id": "IU0YTIJsFPzL",
        "outputId": "e1cc5771-1dd6-4725-abf2-fc9014d7adf1"
      },
      "execution_count": 6,
      "outputs": [
        {
          "output_type": "execute_result",
          "data": {
            "text/plain": [
              "(151.34560453985995,\n",
              " array([  37.90402135, -241.96436231,  542.42875852,  347.70384391,\n",
              "        -931.48884588,  518.06227698,  163.41998299,  275.31790158,\n",
              "         736.1988589 ,   48.67065743]))"
            ]
          },
          "metadata": {},
          "execution_count": 6
        }
      ]
    },
    {
      "cell_type": "code",
      "source": [
        "mean_squared_error(y_test,y_pred), r2_score(y_test,y_pred)"
      ],
      "metadata": {
        "colab": {
          "base_uri": "https://localhost:8080/"
        },
        "id": "IeVuiFI3FU7G",
        "outputId": "a107bbd6-7e2e-4351-cfdf-6c1da3e91a22"
      },
      "execution_count": 7,
      "outputs": [
        {
          "output_type": "execute_result",
          "data": {
            "text/plain": [
              "(2900.193628493482, 0.4526027629719195)"
            ]
          },
          "metadata": {},
          "execution_count": 7
        }
      ]
    },
    {
      "cell_type": "markdown",
      "source": [
        "# My LinearRegression"
      ],
      "metadata": {
        "id": "Hrsv3BHzFj6t"
      }
    },
    {
      "cell_type": "code",
      "source": [
        "class MyGDLinearRegression:\n",
        "  def __init__(self,learning_rate=0.88,epochs=3000):\n",
        "    self.lr = learning_rate\n",
        "    self.epochs = epochs\n",
        "    self.coef_ = None\n",
        "    self.intercept_ = None\n",
        "\n",
        "  def fit(self,X_train,y_train):\n",
        "    self.coef_ = np.ones(X_train.shape[1])\n",
        "    self.intercept_ = 0\n",
        "\n",
        "    for i in range(self.epochs):\n",
        "      y_hat = np.dot(X_train,self.coef_) + self.intercept_\n",
        "\n",
        "      dLdB0 = -2 * np.mean(y_train - y_hat)\n",
        "      dLdBs = (-2 * np.dot((y_train - y_hat),X_train)) / X_train.shape[0]\n",
        "\n",
        "      self.intercept_ = self.intercept_ - (self.lr * dLdB0)\n",
        "      self.coef_ = self.coef_ - (self.lr * dLdBs)\n"
      ],
      "metadata": {
        "id": "7B7mJiYYFiB0"
      },
      "execution_count": 116,
      "outputs": []
    },
    {
      "cell_type": "code",
      "source": [
        "obj = MyGDLinearRegression()\n",
        "obj.fit(X_train,y_train)"
      ],
      "metadata": {
        "id": "UTwcVx7JFelq"
      },
      "execution_count": 117,
      "outputs": []
    },
    {
      "cell_type": "code",
      "source": [
        "obj.intercept_, obj.coef_"
      ],
      "metadata": {
        "colab": {
          "base_uri": "https://localhost:8080/"
        },
        "id": "ji8d7s0hJK9n",
        "outputId": "6353b4b2-6779-4abc-b015-93be9bd27808"
      },
      "execution_count": 118,
      "outputs": [
        {
          "output_type": "execute_result",
          "data": {
            "text/plain": [
              "(151.3056995533428,\n",
              " array([  42.08719773, -240.21523056,  557.25430955,  342.75800029,\n",
              "        -153.59300325,  -89.16925136, -189.10171716,  162.1291824 ,\n",
              "         439.59986269,   54.49034092]))"
            ]
          },
          "metadata": {},
          "execution_count": 118
        }
      ]
    },
    {
      "cell_type": "code",
      "source": [],
      "metadata": {
        "id": "CBXnD_C4JRr9"
      },
      "execution_count": 118,
      "outputs": []
    }
  ]
}