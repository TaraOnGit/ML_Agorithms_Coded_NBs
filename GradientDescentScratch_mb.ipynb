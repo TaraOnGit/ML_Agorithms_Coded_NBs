{
  "nbformat": 4,
  "nbformat_minor": 0,
  "metadata": {
    "colab": {
      "provenance": []
    },
    "kernelspec": {
      "name": "python3",
      "display_name": "Python 3"
    },
    "language_info": {
      "name": "python"
    }
  },
  "cells": [
    {
      "cell_type": "code",
      "execution_count": 4,
      "metadata": {
        "id": "6iBvAvdI1efa"
      },
      "outputs": [],
      "source": [
        "import numpy as np\n",
        "import pandas as pd\n",
        "import matplotlib.pyplot as plt"
      ]
    },
    {
      "cell_type": "code",
      "source": [
        "from sklearn.datasets import make_regression\n",
        "from sklearn.model_selection import train_test_split\n",
        "from sklearn.preprocessing import StandardScaler\n",
        "from sklearn.linear_model import LinearRegression\n",
        "from sklearn.metrics import mean_squared_error"
      ],
      "metadata": {
        "id": "IHzndKJY1meA"
      },
      "execution_count": 2,
      "outputs": []
    },
    {
      "cell_type": "code",
      "source": [
        "X,y = make_regression(n_samples=300,n_features=1,n_targets=1,noise=50)"
      ],
      "metadata": {
        "id": "TGmnsp7P2ACL"
      },
      "execution_count": 8,
      "outputs": []
    },
    {
      "cell_type": "code",
      "source": [
        "scaler = StandardScaler()\n",
        "X_scaled = scaler.fit_transform(X)"
      ],
      "metadata": {
        "id": "2nJLZaP82QPI"
      },
      "execution_count": 9,
      "outputs": []
    },
    {
      "cell_type": "code",
      "source": [
        "X_train,X_test,y_train,y_test = train_test_split(X_scaled,y,test_size=0.25,random_state=42)"
      ],
      "metadata": {
        "id": "qiiH4ibR2rZq"
      },
      "execution_count": 10,
      "outputs": []
    },
    {
      "cell_type": "markdown",
      "source": [
        "# From Scratch"
      ],
      "metadata": {
        "id": "WiXUReK-3Kj6"
      }
    },
    {
      "cell_type": "code",
      "source": [
        "class TaraGD:\n",
        "  def __init__(self,learning_rate,epochs):\n",
        "    self.b = 0\n",
        "    self.m = 0\n",
        "    self.learning_rate = learning_rate\n",
        "    self.epochs = epochs\n",
        "\n",
        "  def fit(self,X_train,y_train):\n",
        "\n",
        "    X_train = X_train.ravel()\n",
        "    y_train = y_train.ravel()\n",
        "\n",
        "    for i in range(self.epochs):\n",
        "\n",
        "      y_pred = self.m * X_train + self.b\n",
        "\n",
        "      loss_slope_b = -2 * np.sum(y_train - y_pred)\n",
        "      loss_slope_m = -2 * np.sum((y_train - y_pred) * X_train)\n",
        "\n",
        "      self.b = self.b - (self.learning_rate * loss_slope_b)\n",
        "      self.m = self.m - (self.learning_rate * loss_slope_m)\n",
        "\n",
        "  def predict(self,X_test):\n",
        "    return self.m * X_test + self.b"
      ],
      "metadata": {
        "id": "2zlN1uzR3Igc"
      },
      "execution_count": 33,
      "outputs": []
    },
    {
      "cell_type": "code",
      "source": [
        "t_gd = TaraGD(0.001,100)\n",
        "t_gd.fit(X_train,y_train)\n",
        "t_gd.b, t_gd.m"
      ],
      "metadata": {
        "colab": {
          "base_uri": "https://localhost:8080/"
        },
        "id": "G_Ry_9v35JNc",
        "outputId": "bba59b8c-a330-4d6f-a011-c726c2f036b3"
      },
      "execution_count": 38,
      "outputs": [
        {
          "output_type": "execute_result",
          "data": {
            "text/plain": [
              "(-3.164796878599178, 89.6351391792587)"
            ]
          },
          "metadata": {},
          "execution_count": 38
        }
      ]
    },
    {
      "cell_type": "code",
      "source": [
        "lr = LinearRegression()\n",
        "lr.fit(X_train,y_train)\n",
        "lr.intercept_, lr.coef_"
      ],
      "metadata": {
        "colab": {
          "base_uri": "https://localhost:8080/"
        },
        "id": "ZwwZGs4c28Kd",
        "outputId": "ae2100ef-b556-4cd2-aae8-8d931cdcea9c"
      },
      "execution_count": 35,
      "outputs": [
        {
          "output_type": "execute_result",
          "data": {
            "text/plain": [
              "(-3.1647968785991805, array([89.63513918]))"
            ]
          },
          "metadata": {},
          "execution_count": 35
        }
      ]
    },
    {
      "cell_type": "code",
      "source": [
        "y_pred1 = lr.predict(X_test)\n",
        "y_pred2 = t_gd.predict(X_test)"
      ],
      "metadata": {
        "id": "PW_DVe0J5CIE"
      },
      "execution_count": 40,
      "outputs": []
    },
    {
      "cell_type": "code",
      "source": [
        "print('MSE - LR : ',mean_squared_error(y_test,y_pred1))\n",
        "print('MSE - GD : ',mean_squared_error(y_test,y_pred2))"
      ],
      "metadata": {
        "colab": {
          "base_uri": "https://localhost:8080/"
        },
        "id": "dbb14XXT70CP",
        "outputId": "ded8e5c8-ad8e-4fa8-e8fb-0cb8507ae0f1"
      },
      "execution_count": 42,
      "outputs": [
        {
          "output_type": "stream",
          "name": "stdout",
          "text": [
            "MSE - LR :  2935.7471161766166\n",
            "MSE - GD :  2935.747116176616\n"
          ]
        }
      ]
    },
    {
      "cell_type": "code",
      "source": [],
      "metadata": {
        "id": "sSdNMhA68KMn"
      },
      "execution_count": null,
      "outputs": []
    }
  ]
}